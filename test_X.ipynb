{
 "cells": [
  {
   "cell_type": "code",
   "execution_count": 1,
   "metadata": {},
   "outputs": [],
   "source": [
    "from IPython.display import clear_output"
   ]
  },
  {
   "cell_type": "code",
   "execution_count": 2,
   "metadata": {},
   "outputs": [],
   "source": [
    "from itertools import cycle\n",
    "import torch\n",
    "from model import QNetwork\n",
    "from utils import *"
   ]
  },
  {
   "cell_type": "code",
   "execution_count": 3,
   "metadata": {},
   "outputs": [],
   "source": [
    "def show_board(board, player):\n",
    "    X = 1 if player == \"X\" else -1\n",
    "\n",
    "    visual = []\n",
    "    for b in board:\n",
    "        if b == 0:\n",
    "            visual.append(\" \")\n",
    "        elif b == X:\n",
    "            visual.append(\"X\")\n",
    "        else:\n",
    "            visual.append(\"O\")\n",
    "    return np.reshape(visual, SHAPE)"
   ]
  },
  {
   "cell_type": "code",
   "execution_count": 4,
   "metadata": {},
   "outputs": [],
   "source": [
    "BOARD_SIZE = 9\n",
    "SHAPE = (3, 3)\n",
    "ROW_SIZE = SHAPE[0]"
   ]
  },
  {
   "cell_type": "code",
   "execution_count": 5,
   "metadata": {},
   "outputs": [],
   "source": [
    "board = np.array([0] * BOARD_SIZE).astype(np.float32)"
   ]
  },
  {
   "cell_type": "code",
   "execution_count": 6,
   "metadata": {},
   "outputs": [
    {
     "data": {
      "text/plain": [
       "device(type='cpu')"
      ]
     },
     "execution_count": 6,
     "metadata": {},
     "output_type": "execute_result"
    }
   ],
   "source": [
    "device = torch.device(\"cuda:0\" if torch.cuda.is_available() else \"cpu\")\n",
    "device"
   ]
  },
  {
   "cell_type": "code",
   "execution_count": 7,
   "metadata": {},
   "outputs": [
    {
     "data": {
      "text/plain": [
       "QNetwork(\n",
       "  (fc1): Linear(in_features=9, out_features=256, bias=True)\n",
       "  (bn1): BatchNorm1d(256, eps=1e-05, momentum=0.1, affine=True, track_running_stats=True)\n",
       "  (fc2): Linear(in_features=256, out_features=128, bias=True)\n",
       "  (bn2): BatchNorm1d(128, eps=1e-05, momentum=0.1, affine=True, track_running_stats=True)\n",
       "  (fc3): Linear(in_features=128, out_features=9, bias=True)\n",
       ")"
      ]
     },
     "execution_count": 7,
     "metadata": {},
     "output_type": "execute_result"
    }
   ],
   "source": [
    "model = QNetwork(BOARD_SIZE, BOARD_SIZE)\n",
    "model.load_state_dict(torch.load(\"X.pth\"))\n",
    "model.eval()"
   ]
  },
  {
   "cell_type": "code",
   "execution_count": 8,
   "metadata": {},
   "outputs": [
    {
     "name": "stdout",
     "output_type": "stream",
     "text": [
      "[['O' 'X' ' ']\n",
      " ['O' 'X' ' ']\n",
      " [' ' 'X' ' ']] \n",
      "Agent: X\n",
      "win X ((0, 1), (1, 1), (2, 1))\n"
     ]
    }
   ],
   "source": [
    "print(show_board(board, \"X\"), f\"\\nAgent: X\")\n",
    "it = cycle((\"X\", \"O\"))\n",
    "while True:\n",
    "    clear_output(wait=True)\n",
    "    player = next(it)\n",
    "    board = board * -1\n",
    "    if player == \"O\":\n",
    "        action = int(input(\"Position (0-8):\"))\n",
    "    else:\n",
    "        state = torch.from_numpy(board).float().unsqueeze(0).to(device)\n",
    "        action = np.argmax(model(state).cpu().data.numpy())\n",
    "    outcome, board, row = check_outcome(board, action, SHAPE, ROW_SIZE)\n",
    "    print(show_board(board, player), f\"\\nAgent: X\")\n",
    "    if outcome:\n",
    "        print(outcome, player, row)\n",
    "        break"
   ]
  }
 ],
 "metadata": {
  "interpreter": {
   "hash": "18091ef0bff38adffa3dfca76b4a8ac7dd06bfadc0b669f6b6b9d4093f64f004"
  },
  "kernelspec": {
   "display_name": "Python 3.9.9 64-bit ('drl-python-3.9.9': pyenv)",
   "language": "python",
   "name": "python3"
  },
  "language_info": {
   "codemirror_mode": {
    "name": "ipython",
    "version": 3
   },
   "file_extension": ".py",
   "mimetype": "text/x-python",
   "name": "python",
   "nbconvert_exporter": "python",
   "pygments_lexer": "ipython3",
   "version": "3.9.9"
  },
  "orig_nbformat": 4
 },
 "nbformat": 4,
 "nbformat_minor": 2
}
