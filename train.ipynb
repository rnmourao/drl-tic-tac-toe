{
 "cells": [
  {
   "cell_type": "code",
   "execution_count": 1,
   "metadata": {},
   "outputs": [],
   "source": [
    "from collections import deque\n",
    "from itertools import cycle\n",
    "import numpy as np\n",
    "from matplotlib import pyplot as plt\n",
    "import torch"
   ]
  },
  {
   "cell_type": "code",
   "execution_count": 2,
   "metadata": {},
   "outputs": [],
   "source": [
    "from environment import TicTacToeEnv\n",
    "from agent import Agent"
   ]
  },
  {
   "cell_type": "code",
   "execution_count": 3,
   "metadata": {},
   "outputs": [
    {
     "data": {
      "text/plain": [
       "device(type='cpu')"
      ]
     },
     "execution_count": 3,
     "metadata": {},
     "output_type": "execute_result"
    }
   ],
   "source": [
    "device = torch.device(\"cuda:0\" if torch.cuda.is_available() else \"cpu\")\n",
    "device"
   ]
  },
  {
   "cell_type": "code",
   "execution_count": 4,
   "metadata": {},
   "outputs": [],
   "source": [
    "env = TicTacToeEnv()"
   ]
  },
  {
   "cell_type": "code",
   "execution_count": 5,
   "metadata": {},
   "outputs": [],
   "source": [
    "X = Agent(\"X\", state_size=env.size, action_size=env.size, device=device, seed=2022)\n",
    "O = Agent(\"O\", state_size=env.size, action_size=env.size, device=device, seed=2022)"
   ]
  },
  {
   "cell_type": "code",
   "execution_count": 6,
   "metadata": {},
   "outputs": [],
   "source": [
    "\"\"\"Deep Q-Learning.\n",
    "\n",
    "Params\n",
    "======\n",
    "    n_episodes (int): maximum number of training episodes\n",
    "    eps_start (float): starting value of epsilon, for epsilon-greedy action selection\n",
    "    eps_end (float): minimum value of epsilon\n",
    "    eps_decay (float): multiplicative factor (per episode) for decreasing epsilon\n",
    "\"\"\"\n",
    "n_episodes = 50000\n",
    "eps_start = 1.0\n",
    "eps_end = 0.01\n",
    "eps_decay = 1 / n_episodes"
   ]
  },
  {
   "cell_type": "code",
   "execution_count": 7,
   "metadata": {},
   "outputs": [
    {
     "name": "stdout",
     "output_type": "stream",
     "text": [
      "Episode 1000\tAverage Score: 0.46\teps: 0.98000\n",
      "Episode 2000\tAverage Score: 0.53\teps: 0.96000\n",
      "Episode 3000\tAverage Score: 0.54\teps: 0.94000\n",
      "Episode 4000\tAverage Score: 0.59\teps: 0.92000\n",
      "Episode 5000\tAverage Score: 0.64\teps: 0.90000\n",
      "Episode 6000\tAverage Score: 0.57\teps: 0.88000\n",
      "Episode 7000\tAverage Score: 0.57\teps: 0.86000\n",
      "Episode 8000\tAverage Score: 0.63\teps: 0.84000\n",
      "Episode 9000\tAverage Score: 0.67\teps: 0.82000\n",
      "Episode 10000\tAverage Score: 0.66\teps: 0.80000\n",
      "Episode 11000\tAverage Score: 0.66\teps: 0.78000\n",
      "Episode 12000\tAverage Score: 0.66\teps: 0.76000\n",
      "Episode 13000\tAverage Score: 0.67\teps: 0.74000\n",
      "Episode 14000\tAverage Score: 0.66\teps: 0.72000\n",
      "Episode 15000\tAverage Score: 0.70\teps: 0.70000\n",
      "Episode 16000\tAverage Score: 0.65\teps: 0.68000\n",
      "Episode 17000\tAverage Score: 0.69\teps: 0.66000\n",
      "Episode 18000\tAverage Score: 0.72\teps: 0.64000\n",
      "Episode 19000\tAverage Score: 0.71\teps: 0.62000\n",
      "Episode 20000\tAverage Score: 0.72\teps: 0.60000\n",
      "Episode 21000\tAverage Score: 0.73\teps: 0.58000\n",
      "Episode 22000\tAverage Score: 0.73\teps: 0.56000\n",
      "Episode 23000\tAverage Score: 0.74\teps: 0.54000\n",
      "Episode 24000\tAverage Score: 0.72\teps: 0.52000\n",
      "Episode 25000\tAverage Score: 0.75\teps: 0.50000\n",
      "Episode 26000\tAverage Score: 0.75\teps: 0.48000\n",
      "Episode 27000\tAverage Score: 0.75\teps: 0.46000\n",
      "Episode 28000\tAverage Score: 0.73\teps: 0.44000\n",
      "Episode 29000\tAverage Score: 0.75\teps: 0.42000\n",
      "Episode 30000\tAverage Score: 0.74\teps: 0.40000\n",
      "Episode 31000\tAverage Score: 0.73\teps: 0.38000\n",
      "Episode 32000\tAverage Score: 0.76\teps: 0.36000\n",
      "Episode 33000\tAverage Score: 0.76\teps: 0.34000\n",
      "Episode 34000\tAverage Score: 0.77\teps: 0.32000\n",
      "Episode 35000\tAverage Score: 0.76\teps: 0.30000\n",
      "Episode 36000\tAverage Score: 0.78\teps: 0.28000\n",
      "Episode 37000\tAverage Score: 0.78\teps: 0.26000\n",
      "Episode 38000\tAverage Score: 0.77\teps: 0.24000\n",
      "Episode 39000\tAverage Score: 0.79\teps: 0.22000\n",
      "Episode 40000\tAverage Score: 0.77\teps: 0.20000\n",
      "Episode 41000\tAverage Score: 0.79\teps: 0.18000\n",
      "Episode 42000\tAverage Score: 0.79\teps: 0.16000\n",
      "Episode 43000\tAverage Score: 0.78\teps: 0.14000\n",
      "Episode 44000\tAverage Score: 0.78\teps: 0.12000\n",
      "Episode 45000\tAverage Score: 0.79\teps: 0.10000\n",
      "Episode 46000\tAverage Score: 0.80\teps: 0.08000\n",
      "Episode 47000\tAverage Score: 0.79\teps: 0.06000\n",
      "Episode 48000\tAverage Score: 0.80\teps: 0.04000\n",
      "Episode 49000\tAverage Score: 0.80\teps: 0.02000\n",
      "Episode 50000\tAverage Score: 0.79\teps: 0.01000\n",
      "{X: {'win': 33013, 'mistake': 275, 'withdraw': 1415}, O: {'win': 15106, 'mistake': 191, 'withdraw': 0}}\n"
     ]
    }
   ],
   "source": [
    "# withdraw should reward both...\n",
    "scores = []                        # list containing scores from each episode\n",
    "scores_window = deque(maxlen=100)  # last 100 scores\n",
    "eps = eps_start                    # initialize epsilon\n",
    "counts = {\"win\": 0, \"mistake\": 0, \"withdraw\": 0}\n",
    "outcomes = {X: counts.copy(), O: counts.copy()}\n",
    "mistakes = []\n",
    "mistake = 0\n",
    "for i_episode in range(1, n_episodes + 1):\n",
    "    state = env.reset()\n",
    "    it = cycle([X, O])\n",
    "    score = {X: 0, O: 0}\n",
    "    while True:\n",
    "        agent = next(it)\n",
    "        action = agent.act(state, eps)\n",
    "        next_state, reward, done, info = env.step(state, action, agent)\n",
    "        agent.step(state, action, reward, next_state, done)\n",
    "        state = next_state * -1 # needed to adapt to the next player's perspective\n",
    "        score[agent] += reward\n",
    "        if done:\n",
    "            if info[\"outcome\"] == \"mistake\":\n",
    "                mistake += 1\n",
    "\n",
    "            outcomes[agent][info[\"outcome\"]] += 1\n",
    "            break \n",
    "    eps = max(eps_end, eps - eps_decay)  # decrease epsilon\n",
    "\n",
    "    max_score = max(score.values())\n",
    "    scores_window.append(max_score)   \n",
    "    avg_score_window = np.mean(scores_window)    \n",
    "    scores.append(avg_score_window)\n",
    "    print('\\rEpisode {}\\tAverage Score: {:.2f}\\teps: {:.5f}'.format(i_episode, avg_score_window, eps), end=\"\")\n",
    "    if i_episode % 1000 == 0:\n",
    "        print('\\rEpisode {}\\tAverage Score: {:.2f}'.format(i_episode, avg_score_window))\n",
    "        mistakes.append(mistake)\n",
    "        mistake = 0\n",
    "    if avg_score_window >= 0.8:\n",
    "        print('\\nEnvironment solved in {:d} episodes!\\tAverage Score: {:.2f}'.format(i_episode-100, avg_score_window))\n",
    "        break\n",
    "torch.save(X.qnetwork_local.state_dict(), 'X.pth')\n",
    "torch.save(O.qnetwork_local.state_dict(), 'O.pth')\n",
    "print(outcomes)"
   ]
  },
  {
   "cell_type": "code",
   "execution_count": 8,
   "metadata": {},
   "outputs": [
    {
     "data": {
      "image/png": "[encoded data removed]",
      "text/plain": [
       "<Figure size 432x288 with 1 Axes>"
      ]
     },
     "metadata": {
      "needs_background": "light"
     },
     "output_type": "display_data"
    }
   ],
   "source": [
    "# plot the scores\n",
    "fig = plt.figure()\n",
    "ax = fig.add_subplot(111)\n",
    "plt.plot(np.arange(len(scores)), scores)\n",
    "plt.ylabel('Score')\n",
    "plt.xlabel('Episode #')\n",
    "plt.show()"
   ]
  },
  {
   "cell_type": "code",
   "execution_count": 9,
   "metadata": {},
   "outputs": [
    {
     "data": {
      "image/png": "[encoded data removed]",
      "text/plain": [
       "<Figure size 432x288 with 1 Axes>"
      ]
     },
     "metadata": {
      "needs_background": "light"
     },
     "output_type": "display_data"
    }
   ],
   "source": [
    "# plot the mistakes\n",
    "fig = plt.figure()\n",
    "ax = fig.add_subplot(111)\n",
    "plt.plot(np.arange(start = 1000, stop=(len(mistakes) + 1) * 1000, step=1000), mistakes)\n",
    "plt.ylabel('Mistakes')\n",
    "plt.xlabel('Episode #')\n",
    "plt.show()"
   ]
  },
  {
   "cell_type": "code",
   "execution_count": 10,
   "metadata": {},
   "outputs": [],
   "source": [
    "env.close()"
   ]
  }
 ],
 "metadata": {
  "interpreter": {
   "hash": "18091ef0bff38adffa3dfca76b4a8ac7dd06bfadc0b669f6b6b9d4093f64f004"
  },
  "kernelspec": {
   "display_name": "Python 3 (ipykernel)",
   "language": "python",
   "name": "python3"
  },
  "language_info": {
   "codemirror_mode": {
    "name": "ipython",
    "version": 3
   },
   "file_extension": ".py",
   "mimetype": "text/x-python",
   "name": "python",
   "nbconvert_exporter": "python",
   "pygments_lexer": "ipython3",
   "version": "3.9.9"
  }
 },
 "nbformat": 4,
 "nbformat_minor": 2
}
