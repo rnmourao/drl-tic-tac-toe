{
 "cells": [
  {
   "cell_type": "code",
   "execution_count": 1,
   "metadata": {},
   "outputs": [],
   "source": [
    "from collections import deque\n",
    "from itertools import cycle\n",
    "import numpy as np\n",
    "from matplotlib import pyplot as plt\n",
    "import torch"
   ]
  },
  {
   "cell_type": "code",
   "execution_count": 2,
   "metadata": {},
   "outputs": [],
   "source": [
    "from environment import TicTacToeEnv\n",
    "from agent import Agent"
   ]
  },
  {
   "cell_type": "code",
   "execution_count": 3,
   "metadata": {},
   "outputs": [
    {
     "data": {
      "text/plain": [
       "device(type='cpu')"
      ]
     },
     "execution_count": 3,
     "metadata": {},
     "output_type": "execute_result"
    }
   ],
   "source": [
    "device = torch.device(\"cuda:0\" if torch.cuda.is_available() else \"cpu\")\n",
    "device"
   ]
  },
  {
   "cell_type": "code",
   "execution_count": 4,
   "metadata": {},
   "outputs": [],
   "source": [
    "env = TicTacToeEnv()"
   ]
  },
  {
   "cell_type": "code",
   "execution_count": 5,
   "metadata": {},
   "outputs": [],
   "source": [
    "X = Agent(\"X\", state_size=env.size, action_size=env.size, device=device, seed=2022)\n",
    "O = Agent(\"O\", state_size=env.size, action_size=env.size, device=device, seed=2022)"
   ]
  },
  {
   "cell_type": "code",
   "execution_count": 6,
   "metadata": {},
   "outputs": [],
   "source": [
    "\"\"\"Deep Q-Learning.\n",
    "\n",
    "Params\n",
    "======\n",
    "    n_episodes (int): maximum number of training episodes\n",
    "    eps_start (float): starting value of epsilon, for epsilon-greedy action selection\n",
    "    eps_end (float): minimum value of epsilon\n",
    "    eps_decay (float): multiplicative factor (per episode) for decreasing epsilon\n",
    "\"\"\"\n",
    "n_episodes = 2000\n",
    "eps_start = 1.0\n",
    "eps_end = 0.01\n",
    "eps_decay = 1 / n_episodes"
   ]
  },
  {
   "cell_type": "code",
   "execution_count": 7,
   "metadata": {},
   "outputs": [
    {
     "name": "stdout",
     "output_type": "stream",
     "text": [
      "Episode 100\tAverage Score: 0.50\teps: 0.95000\n",
      "Episode 200\tAverage Score: 0.46\teps: 0.90000\n",
      "Episode 300\tAverage Score: 0.30\teps: 0.85000\n",
      "Episode 400\tAverage Score: 0.31\teps: 0.80000\n",
      "Episode 500\tAverage Score: 0.35\teps: 0.75000\n",
      "Episode 600\tAverage Score: 0.36\teps: 0.70000\n",
      "Episode 700\tAverage Score: 0.41\teps: 0.65000\n",
      "Episode 800\tAverage Score: 0.37\teps: 0.60000\n",
      "Episode 900\tAverage Score: 0.43\teps: 0.55000\n",
      "Episode 1000\tAverage Score: 0.51\teps: 0.50000\n",
      "Episode 1100\tAverage Score: 0.56\teps: 0.45000\n",
      "Episode 1200\tAverage Score: 0.52\teps: 0.40000\n",
      "Episode 1300\tAverage Score: 0.62\teps: 0.35000\n",
      "Episode 1400\tAverage Score: 0.69\teps: 0.30000\n",
      "Episode 1500\tAverage Score: 0.68\teps: 0.25000\n",
      "Episode 1600\tAverage Score: 0.73\teps: 0.20000\n",
      "Episode 1700\tAverage Score: 0.76\teps: 0.15000\n",
      "Episode 1800\tAverage Score: 0.78\teps: 0.10000\n",
      "Episode 1900\tAverage Score: 0.75\teps: 0.05000\n",
      "Episode 2000\tAverage Score: 0.79\teps: 0.01000\n",
      "{X: {'win': 1117, 'mistake': 182, 'withdraw': 51}, O: {'win': 493, 'mistake': 157, 'withdraw': 0}}\n"
     ]
    }
   ],
   "source": [
    "# withdraw should reward both...\n",
    "scores = []                        # list containing scores from each episode\n",
    "scores_window = deque(maxlen=100)  # last 100 scores\n",
    "eps = eps_start                    # initialize epsilon\n",
    "counts = {\"win\": 0, \"mistake\": 0, \"withdraw\": 0}\n",
    "outcomes = {X: counts.copy(), O: counts.copy()}\n",
    "mistakes = []\n",
    "mistake = 0\n",
    "for i_episode in range(1, n_episodes + 1):\n",
    "    state = env.reset()\n",
    "    it = cycle([X, O])\n",
    "    score = {X: 0, O: 0}\n",
    "    while True:\n",
    "        agent = next(it)\n",
    "        action = agent.act(state, eps)\n",
    "        next_state, reward, done, info = env.step(state, action, agent)\n",
    "        agent.step(state, action, reward, next_state, done)\n",
    "        state = next_state * -1 # needed to adapt to the next player's perspective\n",
    "        score[agent] += reward\n",
    "        if done:\n",
    "            if info[\"outcome\"] == \"mistake\":\n",
    "                mistake += 1\n",
    "\n",
    "            outcomes[agent][info[\"outcome\"]] += 1\n",
    "            break \n",
    "    eps = max(eps_end, eps - eps_decay)  # decrease epsilon\n",
    "\n",
    "    max_score = max(score.values())\n",
    "    scores_window.append(max_score)   \n",
    "    avg_score_window = np.mean(scores_window)    \n",
    "    scores.append(avg_score_window)\n",
    "    print('\\rEpisode {}\\tAverage Score: {:.2f}\\teps: {:.5f}'.format(i_episode, avg_score_window, eps), end=\"\")\n",
    "    if i_episode % 100 == 0:\n",
    "        print('\\rEpisode {}\\tAverage Score: {:.2f}'.format(i_episode, avg_score_window))\n",
    "        mistakes.append(mistake)\n",
    "        mistake = 0\n",
    "    if avg_score_window >= 0.8:\n",
    "        print('\\nEnvironment solved in {:d} episodes!\\tAverage Score: {:.2f}'.format(i_episode-100, avg_score_window))\n",
    "        break\n",
    "torch.save(X.qnetwork_local.state_dict(), 'X.pth')\n",
    "torch.save(O.qnetwork_local.state_dict(), 'O.pth')\n",
    "print(outcomes)"
   ]
  },
  {
   "cell_type": "code",
   "execution_count": 8,
   "metadata": {},
   "outputs": [
    {
     "data": {
      "image/png": "[encoded data removed]",
      "text/plain": [
       "<Figure size 432x288 with 1 Axes>"
      ]
     },
     "metadata": {
      "needs_background": "light"
     },
     "output_type": "display_data"
    }
   ],
   "source": [
    "# plot the scores\n",
    "fig = plt.figure()\n",
    "ax = fig.add_subplot(111)\n",
    "plt.plot(np.arange(len(scores)), scores)\n",
    "plt.ylabel('Score')\n",
    "plt.xlabel('Episode #')\n",
    "plt.show()"
   ]
  },
  {
   "cell_type": "code",
   "execution_count": 9,
   "metadata": {},
   "outputs": [
    {
     "data": {
      "image/png": "[encoded data removed]",
      "text/plain": [
       "<Figure size 432x288 with 1 Axes>"
      ]
     },
     "metadata": {
      "needs_background": "light"
     },
     "output_type": "display_data"
    }
   ],
   "source": [
    "# plot the mistakes\n",
    "fig = plt.figure()\n",
    "ax = fig.add_subplot(111)\n",
    "plt.plot(np.arange(start = 100, stop=(len(mistakes) + 1) * 100, step=100), mistakes)\n",
    "plt.ylabel('Mistakes')\n",
    "plt.xlabel('Episode #')\n",
    "plt.show()"
   ]
  },
  {
   "cell_type": "code",
   "execution_count": 10,
   "metadata": {},
   "outputs": [],
   "source": [
    "env.close()"
   ]
  }
 ],
 "metadata": {
  "interpreter": {
   "hash": "18091ef0bff38adffa3dfca76b4a8ac7dd06bfadc0b669f6b6b9d4093f64f004"
  },
  "kernelspec": {
   "display_name": "Python 3 (ipykernel)",
   "language": "python",
   "name": "python3"
  },
  "language_info": {
   "codemirror_mode": {
    "name": "ipython",
    "version": 3
   },
   "file_extension": ".py",
   "mimetype": "text/x-python",
   "name": "python",
   "nbconvert_exporter": "python",
   "pygments_lexer": "ipython3",
   "version": "3.9.9"
  }
 },
 "nbformat": 4,
 "nbformat_minor": 2
}
